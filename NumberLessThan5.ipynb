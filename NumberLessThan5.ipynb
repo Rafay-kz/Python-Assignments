{
 "cells": [
  {
   "cell_type": "code",
   "execution_count": 1,
   "metadata": {},
   "outputs": [
    {
     "name": "stdout",
     "output_type": "stream",
     "text": [
      "Numbers of list which are less than Five:1\n",
      "Numbers of list which are less than Five:2\n",
      "Numbers of list which are less than Five:2\n",
      "Numbers of list which are less than Five:3\n",
      "Numbers of list which are less than Five:4\n"
     ]
    }
   ],
   "source": [
    "x=[1,2,2,3,4,76,89,45,67];\n",
    "for y in range(0,len(x)):\n",
    "    if(x[y]<5):\n",
    "        print(\"Numbers of list which are less than Five:\"+str(x[y]));\n"
   ]
  },
  {
   "cell_type": "code",
   "execution_count": null,
   "metadata": {},
   "outputs": [],
   "source": []
  }
 ],
 "metadata": {
  "kernelspec": {
   "display_name": "Python 3",
   "language": "python",
   "name": "python3"
  },
  "language_info": {
   "codemirror_mode": {
    "name": "ipython",
    "version": 3
   },
   "file_extension": ".py",
   "mimetype": "text/x-python",
   "name": "python",
   "nbconvert_exporter": "python",
   "pygments_lexer": "ipython3",
   "version": "3.7.3"
  }
 },
 "nbformat": 4,
 "nbformat_minor": 2
}
