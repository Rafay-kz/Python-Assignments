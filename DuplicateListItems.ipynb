{
 "cells": [
  {
   "cell_type": "code",
   "execution_count": 1,
   "metadata": {},
   "outputs": [
    {
     "name": "stdout",
     "output_type": "stream",
     "text": [
      "[2, 3]\n"
     ]
    }
   ],
   "source": [
    "list1 = [1, 2, 3, 2, 2, 3, 4]\n",
    "_size=len(list1);\n",
    "repeated = []\n",
    "for i in range(_size):\n",
    "    k=i+1;\n",
    "    for j in range(k,_size):\n",
    "        if list1[i] == list1[j] and list1[i] not in repeated:\n",
    "            repeated.append(list1[i])\n",
    "            \n",
    "\n",
    "print (repeated);\n"
   ]
  },
  {
   "cell_type": "code",
   "execution_count": null,
   "metadata": {},
   "outputs": [],
   "source": []
  }
 ],
 "metadata": {
  "kernelspec": {
   "display_name": "Python 3",
   "language": "python",
   "name": "python3"
  },
  "language_info": {
   "codemirror_mode": {
    "name": "ipython",
    "version": 3
   },
   "file_extension": ".py",
   "mimetype": "text/x-python",
   "name": "python",
   "nbconvert_exporter": "python",
   "pygments_lexer": "ipython3",
   "version": "3.7.3"
  }
 },
 "nbformat": 4,
 "nbformat_minor": 2
}
