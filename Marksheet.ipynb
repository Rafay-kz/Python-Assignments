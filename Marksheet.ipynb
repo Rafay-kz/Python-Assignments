{
 "cells": [
  {
   "cell_type": "code",
   "execution_count": 1,
   "metadata": {},
   "outputs": [
    {
     "name": "stdout",
     "output_type": "stream",
     "text": [
      "Marks of English:90\n",
      "Marks of Mathematics:49\n",
      "Marks of Physics:50\n",
      "Marks of Chemistry:60\n",
      "Marks of Python:99\n",
      "Your Grade is C\n"
     ]
    }
   ],
   "source": [
    "a=int(input(\"Marks of English:\"));\n",
    "b=int(input(\"Marks of Mathematics:\"));\n",
    "c=int(input(\"Marks of Physics:\"));\n",
    "d=int(input(\"Marks of Chemistry:\"));\n",
    "e=int(input(\"Marks of Python:\"));\n",
    "obtained_marks=a+b+c+d+e;\n",
    "total_marks=500;\n",
    "grade=(obtained_marks/total_marks)*100;\n",
    "\n",
    "if(grade>=90):\n",
    "    print(\"Your Grade is A+\");\n",
    "elif(grade>=80 and grade<90):\n",
    "        print(\"Your Grade is A\");\n",
    "elif(grade>=70 and grade<80):\n",
    "            print(\"Your Grade is B\");\n",
    "elif(grade>=60 and grade<70):\n",
    "                print(\"Your Grade is C\");\n",
    "elif(grade>=50 and grade<60):\n",
    "                    print(\"Your Grade is D\");\n",
    "elif(grade<50):\n",
    "                        print(\"You Are Fail\");\n",
    "else:\n",
    "                            print(\"Nothing\");\n"
   ]
  },
  {
   "cell_type": "code",
   "execution_count": null,
   "metadata": {},
   "outputs": [],
   "source": []
  }
 ],
 "metadata": {
  "kernelspec": {
   "display_name": "Python 3",
   "language": "python",
   "name": "python3"
  },
  "language_info": {
   "codemirror_mode": {
    "name": "ipython",
    "version": 3
   },
   "file_extension": ".py",
   "mimetype": "text/x-python",
   "name": "python",
   "nbconvert_exporter": "python",
   "pygments_lexer": "ipython3",
   "version": "3.7.3"
  }
 },
 "nbformat": 4,
 "nbformat_minor": 2
}
