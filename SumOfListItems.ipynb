{
 "cells": [
  {
   "cell_type": "code",
   "execution_count": 6,
   "metadata": {},
   "outputs": [
    {
     "name": "stdout",
     "output_type": "stream",
     "text": [
      "Sum:1\n",
      "Sum:3\n",
      "Sum:6\n",
      "Sum:10\n",
      "Sum:15\n"
     ]
    }
   ],
   "source": [
    "x=[1,2,3,4,5];\n",
    "total=0;\n",
    "for y in range(0,len(x)):\n",
    "    total=total+x[y]\n",
    "    print(\"Sum:\"+str(total));\n"
   ]
  },
  {
   "cell_type": "code",
   "execution_count": null,
   "metadata": {},
   "outputs": [],
   "source": []
  }
 ],
 "metadata": {
  "kernelspec": {
   "display_name": "Python 3",
   "language": "python",
   "name": "python3"
  },
  "language_info": {
   "codemirror_mode": {
    "name": "ipython",
    "version": 3
   },
   "file_extension": ".py",
   "mimetype": "text/x-python",
   "name": "python",
   "nbconvert_exporter": "python",
   "pygments_lexer": "ipython3",
   "version": "3.7.3"
  }
 },
 "nbformat": 4,
 "nbformat_minor": 2
}
